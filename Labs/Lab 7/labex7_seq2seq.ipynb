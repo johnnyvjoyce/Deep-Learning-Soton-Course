{
 "cells": [
  {
   "cell_type": "markdown",
   "metadata": {
    "colab_type": "text",
    "id": "I1lc3xnYPSlw"
   },
   "source": [
    "First we import libraries and set the random seed:"
   ]
  },
  {
   "cell_type": "code",
   "execution_count": 18,
   "metadata": {
    "colab": {},
    "colab_type": "code",
    "id": "pJXe-HNwOvWq"
   },
   "outputs": [
    {
     "data": {
      "text/plain": [
       "<torch._C.Generator at 0x2475904c190>"
      ]
     },
     "execution_count": 18,
     "metadata": {},
     "output_type": "execute_result"
    }
   ],
   "source": [
    "from torchvision.datasets.utils import download_url\n",
    "from torch.utils.data import Dataset, DataLoader, random_split\n",
    "from torch.nn.utils.rnn import pad_sequence\n",
    "from torch import nn\n",
    "from torch.nn import functional as F\n",
    "from torch import optim\n",
    "from tqdm.autonotebook import tqdm\n",
    "from textwrap import wrap\n",
    "import random\n",
    "import sys\n",
    "import io\n",
    "import random\n",
    "import numpy as np\n",
    "import torch\n",
    "\n",
    "torch.manual_seed(0)"
   ]
  },
  {
   "cell_type": "markdown",
   "metadata": {
    "colab_type": "text",
    "id": "zvgBTudyPamX"
   },
   "source": [
    "The following block defines a dataset object which parses our data file and performs numericalisation of the sequence data:"
   ]
  },
  {
   "cell_type": "code",
   "execution_count": 26,
   "metadata": {
    "colab": {},
    "colab_type": "code",
    "id": "obU0x4DzO2ce"
   },
   "outputs": [
    {
     "name": "stdout",
     "output_type": "stream",
     "text": [
      "Using downloaded and verified file: .\\dataset.txt\n"
     ]
    }
   ],
   "source": [
    "class CodeDataset(Dataset):\n",
    "    def __init__(self):\n",
    "        download_url('https://github.com/ecs-vlc/COMP6248/raw/master/exercises/lab7/dataset.txt', '.', 'dataset.txt', None)\n",
    "        with io.open('dataset.txt', 'r') as f:\n",
    "            self.data = f.readlines()\n",
    "\n",
    "        self.PAD='_'\n",
    "        self.SOS='^'\n",
    "        self.EOS='$'\n",
    "        self.PAD_IDX=0\n",
    "\n",
    "        # construct the vocabularies to numericalise the data\n",
    "        self.alphabet = \"*\".join(self.PAD+self.SOS+self.EOS+\"abcdefghijklmnopqrstuvwxyz \").split('*')\n",
    "\n",
    "        self.alphabet_indices = dict((c, i) for i, c in enumerate(self.alphabet))\n",
    "        self.indices_alphabet = dict((i, c) for i, c in enumerate(self.alphabet))\n",
    "\n",
    "        self.morsebet = self.PAD+self.SOS+self.EOS+'.- /'\n",
    "        self.morse_indices = dict((c, i) for i, c in enumerate(self.morsebet))\n",
    "        self.indices_morse = dict((i, c) for i, c in enumerate(self.morsebet))\n",
    "\n",
    "    def encode_alpha(self, inp):\n",
    "        x = torch.zeros(len(inp), dtype=torch.long)\n",
    "        for t, char in enumerate(inp):\n",
    "            x[t] = self.alphabet_indices[char]\n",
    "\n",
    "        return x\n",
    "\n",
    "    def decode_alpha(self, ten, skip_tok=False):\n",
    "        s = ''\n",
    "        ten = ten.view(-1)\n",
    "        for v in ten.view(-1):\n",
    "            if not skip_tok:\n",
    "                s += self.indices_alphabet[v.item()]\n",
    "            elif v>2:\n",
    "                s += self.indices_alphabet[v.item()]\n",
    "        return s\n",
    "\n",
    "    def encode_morse(self, inp):\n",
    "        x = torch.zeros(len(inp), dtype=torch.long)\n",
    "        for t, char in enumerate(inp):\n",
    "            x[t] = self.morse_indices[char]\n",
    "\n",
    "        return x\n",
    "\n",
    "    def decode_morse(self, ten):\n",
    "        s = ''\n",
    "        for v in ten:\n",
    "          s += self.indices_morse[v]\n",
    "        return s\n",
    "\n",
    "    def __len__(self):\n",
    "        return len(self.data)\n",
    "\n",
    "    def __getitem__(self, i):\n",
    "        inp, out = self.data[i].strip().split('|')\n",
    "        x = self.encode_morse(inp)\n",
    "        y = self.encode_alpha(out[::-1])\n",
    "        return x, y\n",
    "\n",
    "\n",
    "# This will be used to automatically pad all batch items to the same length\n",
    "def pad_collate(batch): \n",
    "    data = [item[0] for item in batch]\n",
    "    data = pad_sequence(data)\n",
    "    targets = [item[1] for item in batch]\n",
    "    targets = pad_sequence(targets)\n",
    "    return [data, targets]\n",
    "\n",
    "# Load the data and split randomly into training and val subsets\n",
    "ds = CodeDataset()\n",
    "tr, va = random_split(ds, [len(ds) - len(ds)//3, len(ds)//3])\n",
    "trainloader = DataLoader(tr, batch_size=1024, shuffle=True, collate_fn=pad_collate)\n",
    "valloader = DataLoader(va, batch_size=1024, shuffle=False, collate_fn=pad_collate)"
   ]
  },
  {
   "cell_type": "markdown",
   "metadata": {
    "colab_type": "text",
    "id": "__Fs_h2PPqWa"
   },
   "source": [
    "We next define the model architecture, which is made up of an encoder, a decoder and the Seq2Seq class which ties everything together:"
   ]
  },
  {
   "cell_type": "code",
   "execution_count": 28,
   "metadata": {
    "colab": {},
    "colab_type": "code",
    "id": "0JxbT3pFO9Em"
   },
   "outputs": [],
   "source": [
    "class Encoder(nn.Module):\n",
    "    def __init__(self, input_dim, emb_dim, hid_dim):\n",
    "        super().__init__()\n",
    "        \n",
    "        self.hid_dim = hid_dim\n",
    "        self.embedding = nn.Embedding(input_dim, emb_dim)\n",
    "        self.rnn = nn.LSTM(emb_dim, hid_dim)\n",
    "        \n",
    "    def forward(self, src):\n",
    "        # TODO\n",
    "        # Unfortunately I didn’t quite have time to finish it; it’s all complete except for the forward method of\n",
    "        # the Encoder class. All the encoder needs to do is pass the input through the embedding and then into\n",
    "        # the LSTM. The forward method should return the hidden state and the cell state of the LSTM as its\n",
    "        # output. The output of the LSTM should be ignored as it’s not used in this model.\n",
    "        \n",
    "        embedded = self.embedding(src)\n",
    "        lstm_out, state = self.rnn(embedded)\n",
    "        return state\n",
    "\n",
    "\n",
    "\n",
    "class Decoder(nn.Module):\n",
    "    def __init__(self, output_dim, emb_dim, hid_dim):\n",
    "        super().__init__()\n",
    "        \n",
    "        self.output_dim = output_dim\n",
    "        self.hid_dim = hid_dim\n",
    "        self.embedding = nn.Embedding(output_dim, emb_dim)\n",
    "        self.rnn = nn.LSTM(emb_dim, hid_dim)\n",
    "        self.fc_out = nn.Linear(hid_dim, output_dim)\n",
    "        \n",
    "    def forward(self, input, hidden, cell):\n",
    "        input = input.unsqueeze(0)\n",
    "        embedded = self.embedding(input)\n",
    "        output, (hidden, cell) = self.rnn(embedded, (hidden, cell))        \n",
    "        prediction = self.fc_out(output.squeeze(0))\n",
    "        return prediction, hidden, cell\n",
    "\n",
    "\n",
    "class Seq2Seq(nn.Module):\n",
    "    def __init__(self, encoder, decoder):\n",
    "        super().__init__()\n",
    "        \n",
    "        self.encoder = encoder\n",
    "        self.decoder = decoder\n",
    "        \n",
    "    def forward(self, src, trg=None, teacher_forcing_ratio = 0.5, maxlen=5, padding_idx=0):\n",
    "        batch_size = src.shape[1]\n",
    "        trg_len = trg.shape[0] if trg is not None else maxlen\n",
    "        trg_vocab_size = self.decoder.output_dim\n",
    "\n",
    "        outputs = torch.zeros(trg_len, batch_size, trg_vocab_size).to(src.device)\n",
    "        hidden, cell = self.encoder(src)\n",
    "\n",
    "        input = torch.ones(batch_size, dtype=torch.long, device=src.device) * padding_idx\n",
    "        for t in range(1, trg_len):\n",
    "            output, hidden, cell = self.decoder(input, hidden, cell)\n",
    "            outputs[t] = output\n",
    "            \n",
    "            teacher_force = random.random() < teacher_forcing_ratio\n",
    "            top1 = output.argmax(1) \n",
    "            input = trg[t] if teacher_force and trg is not None else top1\n",
    "        \n",
    "        return outputs\n",
    "\n",
    "\n",
    "INPUT_DIM = len(ds.morsebet)\n",
    "OUTPUT_DIM = len(ds.alphabet)\n",
    "ENC_EMB_DIM = 128\n",
    "DEC_EMB_DIM = 128\n",
    "HID_DIM = 256\n",
    "\n",
    "enc = Encoder(INPUT_DIM, ENC_EMB_DIM, HID_DIM)\n",
    "dec = Decoder(OUTPUT_DIM, DEC_EMB_DIM, HID_DIM)\n",
    "model = Seq2Seq(enc, dec).cuda()"
   ]
  },
  {
   "cell_type": "markdown",
   "metadata": {
    "colab_type": "text",
    "id": "iY4Y5DPVP7Ih"
   },
   "source": [
    "Finally, we can train and evaluate the model:"
   ]
  },
  {
   "cell_type": "code",
   "execution_count": 44,
   "metadata": {
    "colab": {},
    "colab_type": "code",
    "id": "qAkkOs_tPC68"
   },
   "outputs": [
    {
     "name": "stdout",
     "output_type": "stream",
     "text": [
      "EPOCH 0\n"
     ]
    },
    {
     "data": {
      "application/vnd.jupyter.widget-view+json": {
       "model_id": "665a13eb04a54e279d4bed3d4276704d",
       "version_major": 2,
       "version_minor": 0
      },
      "text/plain": [
       "HBox(children=(FloatProgress(value=0.0, description='train', max=163.0, style=ProgressStyle(description_width=…"
      ]
     },
     "metadata": {},
     "output_type": "display_data"
    },
    {
     "name": "stdout",
     "output_type": "stream",
     "text": [
      "\n"
     ]
    },
    {
     "data": {
      "application/vnd.jupyter.widget-view+json": {
       "model_id": "61a4506d19cf4c148f2bda8498d87722",
       "version_major": 2,
       "version_minor": 0
      },
      "text/plain": [
       "HBox(children=(FloatProgress(value=0.0, description='val', max=82.0, style=ProgressStyle(description_width='in…"
      ]
     },
     "metadata": {},
     "output_type": "display_data"
    },
    {
     "name": "stdout",
     "output_type": "stream",
     "text": [
      "\n",
      "EPOCH 1\n"
     ]
    },
    {
     "data": {
      "application/vnd.jupyter.widget-view+json": {
       "model_id": "c6f5aa2538f44aabafa1b103c931b9d4",
       "version_major": 2,
       "version_minor": 0
      },
      "text/plain": [
       "HBox(children=(FloatProgress(value=0.0, description='train', max=163.0, style=ProgressStyle(description_width=…"
      ]
     },
     "metadata": {},
     "output_type": "display_data"
    },
    {
     "name": "stdout",
     "output_type": "stream",
     "text": [
      "\n"
     ]
    },
    {
     "data": {
      "application/vnd.jupyter.widget-view+json": {
       "model_id": "e16aac0316214ce98deff8a23c3ec303",
       "version_major": 2,
       "version_minor": 0
      },
      "text/plain": [
       "HBox(children=(FloatProgress(value=0.0, description='val', max=82.0, style=ProgressStyle(description_width='in…"
      ]
     },
     "metadata": {},
     "output_type": "display_data"
    },
    {
     "name": "stdout",
     "output_type": "stream",
     "text": [
      "\n",
      "EPOCH 2\n"
     ]
    },
    {
     "data": {
      "application/vnd.jupyter.widget-view+json": {
       "model_id": "be7edc637ab148c09e6b1502104a3d5a",
       "version_major": 2,
       "version_minor": 0
      },
      "text/plain": [
       "HBox(children=(FloatProgress(value=0.0, description='train', max=163.0, style=ProgressStyle(description_width=…"
      ]
     },
     "metadata": {},
     "output_type": "display_data"
    },
    {
     "name": "stdout",
     "output_type": "stream",
     "text": [
      "\n"
     ]
    },
    {
     "data": {
      "application/vnd.jupyter.widget-view+json": {
       "model_id": "3caf085187c34e038a6e94d9c52870e3",
       "version_major": 2,
       "version_minor": 0
      },
      "text/plain": [
       "HBox(children=(FloatProgress(value=0.0, description='val', max=82.0, style=ProgressStyle(description_width='in…"
      ]
     },
     "metadata": {},
     "output_type": "display_data"
    },
    {
     "name": "stdout",
     "output_type": "stream",
     "text": [
      "\n",
      "EPOCH 3\n"
     ]
    },
    {
     "data": {
      "application/vnd.jupyter.widget-view+json": {
       "model_id": "d8328b229e0c4aa389fc8581abaa8a34",
       "version_major": 2,
       "version_minor": 0
      },
      "text/plain": [
       "HBox(children=(FloatProgress(value=0.0, description='train', max=163.0, style=ProgressStyle(description_width=…"
      ]
     },
     "metadata": {},
     "output_type": "display_data"
    },
    {
     "name": "stdout",
     "output_type": "stream",
     "text": [
      "\n"
     ]
    },
    {
     "data": {
      "application/vnd.jupyter.widget-view+json": {
       "model_id": "9249765da1a04056859bb93f62333107",
       "version_major": 2,
       "version_minor": 0
      },
      "text/plain": [
       "HBox(children=(FloatProgress(value=0.0, description='val', max=82.0, style=ProgressStyle(description_width='in…"
      ]
     },
     "metadata": {},
     "output_type": "display_data"
    },
    {
     "name": "stdout",
     "output_type": "stream",
     "text": [
      "\n",
      "EPOCH 4\n"
     ]
    },
    {
     "data": {
      "application/vnd.jupyter.widget-view+json": {
       "model_id": "615f384fa9e04cdbad3f34f527006826",
       "version_major": 2,
       "version_minor": 0
      },
      "text/plain": [
       "HBox(children=(FloatProgress(value=0.0, description='train', max=163.0, style=ProgressStyle(description_width=…"
      ]
     },
     "metadata": {},
     "output_type": "display_data"
    },
    {
     "name": "stdout",
     "output_type": "stream",
     "text": [
      "\n"
     ]
    },
    {
     "data": {
      "application/vnd.jupyter.widget-view+json": {
       "model_id": "58f27bbe7df5481aa76220ec9ac1d19c",
       "version_major": 2,
       "version_minor": 0
      },
      "text/plain": [
       "HBox(children=(FloatProgress(value=0.0, description='val', max=82.0, style=ProgressStyle(description_width='in…"
      ]
     },
     "metadata": {},
     "output_type": "display_data"
    },
    {
     "name": "stdout",
     "output_type": "stream",
     "text": [
      "\n",
      "EPOCH 5\n"
     ]
    },
    {
     "data": {
      "application/vnd.jupyter.widget-view+json": {
       "model_id": "f04fbef65c8648938063f7a21a22b58b",
       "version_major": 2,
       "version_minor": 0
      },
      "text/plain": [
       "HBox(children=(FloatProgress(value=0.0, description='train', max=163.0, style=ProgressStyle(description_width=…"
      ]
     },
     "metadata": {},
     "output_type": "display_data"
    },
    {
     "name": "stdout",
     "output_type": "stream",
     "text": [
      "\n"
     ]
    },
    {
     "data": {
      "application/vnd.jupyter.widget-view+json": {
       "model_id": "5284a70a5c2047b1b9019f13e6ba55b4",
       "version_major": 2,
       "version_minor": 0
      },
      "text/plain": [
       "HBox(children=(FloatProgress(value=0.0, description='val', max=82.0, style=ProgressStyle(description_width='in…"
      ]
     },
     "metadata": {},
     "output_type": "display_data"
    },
    {
     "name": "stdout",
     "output_type": "stream",
     "text": [
      "\n",
      "EPOCH 6\n"
     ]
    },
    {
     "data": {
      "application/vnd.jupyter.widget-view+json": {
       "model_id": "0c94b243e46e48219efb0c6e1c6dcc93",
       "version_major": 2,
       "version_minor": 0
      },
      "text/plain": [
       "HBox(children=(FloatProgress(value=0.0, description='train', max=163.0, style=ProgressStyle(description_width=…"
      ]
     },
     "metadata": {},
     "output_type": "display_data"
    },
    {
     "name": "stdout",
     "output_type": "stream",
     "text": [
      "\n"
     ]
    },
    {
     "data": {
      "application/vnd.jupyter.widget-view+json": {
       "model_id": "714e23eeb4d74d17a6d203e60cd8e51e",
       "version_major": 2,
       "version_minor": 0
      },
      "text/plain": [
       "HBox(children=(FloatProgress(value=0.0, description='val', max=82.0, style=ProgressStyle(description_width='in…"
      ]
     },
     "metadata": {},
     "output_type": "display_data"
    },
    {
     "name": "stdout",
     "output_type": "stream",
     "text": [
      "\n",
      "EPOCH 7\n"
     ]
    },
    {
     "data": {
      "application/vnd.jupyter.widget-view+json": {
       "model_id": "47a6623db4b9499ab63ca32f18c0449d",
       "version_major": 2,
       "version_minor": 0
      },
      "text/plain": [
       "HBox(children=(FloatProgress(value=0.0, description='train', max=163.0, style=ProgressStyle(description_width=…"
      ]
     },
     "metadata": {},
     "output_type": "display_data"
    },
    {
     "name": "stdout",
     "output_type": "stream",
     "text": [
      "\n"
     ]
    },
    {
     "data": {
      "application/vnd.jupyter.widget-view+json": {
       "model_id": "f6f3482915f94ce996e8ca3862b6291b",
       "version_major": 2,
       "version_minor": 0
      },
      "text/plain": [
       "HBox(children=(FloatProgress(value=0.0, description='val', max=82.0, style=ProgressStyle(description_width='in…"
      ]
     },
     "metadata": {},
     "output_type": "display_data"
    },
    {
     "name": "stdout",
     "output_type": "stream",
     "text": [
      "\n",
      "EPOCH 8\n"
     ]
    },
    {
     "data": {
      "application/vnd.jupyter.widget-view+json": {
       "model_id": "6dbf9439878b4b28b56e7cf6bea4788e",
       "version_major": 2,
       "version_minor": 0
      },
      "text/plain": [
       "HBox(children=(FloatProgress(value=0.0, description='train', max=163.0, style=ProgressStyle(description_width=…"
      ]
     },
     "metadata": {},
     "output_type": "display_data"
    },
    {
     "name": "stdout",
     "output_type": "stream",
     "text": [
      "\n"
     ]
    },
    {
     "data": {
      "application/vnd.jupyter.widget-view+json": {
       "model_id": "0c21e14e91524d5b899d8f33eaf7694c",
       "version_major": 2,
       "version_minor": 0
      },
      "text/plain": [
       "HBox(children=(FloatProgress(value=0.0, description='val', max=82.0, style=ProgressStyle(description_width='in…"
      ]
     },
     "metadata": {},
     "output_type": "display_data"
    },
    {
     "name": "stdout",
     "output_type": "stream",
     "text": [
      "\n",
      "EPOCH 9\n"
     ]
    },
    {
     "data": {
      "application/vnd.jupyter.widget-view+json": {
       "model_id": "a7cf234b50174828a2078c5e86838fb7",
       "version_major": 2,
       "version_minor": 0
      },
      "text/plain": [
       "HBox(children=(FloatProgress(value=0.0, description='train', max=163.0, style=ProgressStyle(description_width=…"
      ]
     },
     "metadata": {},
     "output_type": "display_data"
    },
    {
     "name": "stdout",
     "output_type": "stream",
     "text": [
      "\n"
     ]
    },
    {
     "data": {
      "application/vnd.jupyter.widget-view+json": {
       "model_id": "f30980ccd8834814bb5e7bf28403e738",
       "version_major": 2,
       "version_minor": 0
      },
      "text/plain": [
       "HBox(children=(FloatProgress(value=0.0, description='val', max=82.0, style=ProgressStyle(description_width='in…"
      ]
     },
     "metadata": {},
     "output_type": "display_data"
    },
    {
     "name": "stdout",
     "output_type": "stream",
     "text": [
      "\n"
     ]
    }
   ],
   "source": [
    "trainloss = []\n",
    "valloss = []\n",
    "\n",
    "crit = nn.CrossEntropyLoss(ignore_index=ds.PAD_IDX)\n",
    "opt = optim.Adam(model.parameters())\n",
    "\n",
    "for e in range(10):\n",
    "    print(\"EPOCH\", e)\n",
    "    \n",
    "    model.train()\n",
    "\n",
    "    with tqdm(total=len(trainloader), desc='train') as t:\n",
    "        epoch_loss = 0\n",
    "        for i, (x, y) in enumerate(trainloader):\n",
    "            x = x.cuda()\n",
    "            y = y.cuda()\n",
    "\n",
    "            opt.zero_grad()\n",
    "            pred = model(x, y, padding_idx=ds.PAD_IDX)\n",
    "\n",
    "            pred_dim = pred.shape[-1]\n",
    "            pred = pred[1:].view(-1, pred_dim)\n",
    "            y = y[1:].view(-1)\n",
    "\n",
    "            loss = crit(pred, y)\n",
    "            loss.backward()\n",
    "            opt.step()\n",
    "\n",
    "            epoch_loss = (epoch_loss*i + loss.item()) / (i+1)\n",
    "            trainloss.append(epoch_loss)\n",
    "\n",
    "            t.set_postfix(loss='{:05.3f}'.format(epoch_loss))\n",
    "            t.update()\n",
    "\n",
    "    model.eval()\n",
    "    with tqdm(total=len(valloader), desc='val') as t:\n",
    "        with torch.no_grad():\n",
    "            epoch_loss = 0\n",
    "            for i, (x, y) in enumerate(valloader):\n",
    "                x = x.cuda()\n",
    "                y = y.cuda()\n",
    "\n",
    "                pred = model(x, y, teacher_forcing_ratio=0, padding_idx=ds.PAD_IDX)\n",
    "\n",
    "                pred_dim = pred.shape[-1]\n",
    "                pred = pred[1:].view(-1, pred_dim)\n",
    "                y = y[1:].view(-1)\n",
    "\n",
    "                loss = crit(pred, y)\n",
    "                epoch_loss = (epoch_loss*i + loss.item()) / (i+1)\n",
    "                valloss.append(epoch_loss)\n",
    "\n",
    "                t.set_postfix(loss='{:05.3f}'.format(epoch_loss))\n",
    "                t.update()\n",
    "                \n",
    "    #print(\"train_loss:\", trainloss, \", val_loss:\", valloss)"
   ]
  },
  {
   "cell_type": "code",
   "execution_count": 22,
   "metadata": {
    "colab": {},
    "colab_type": "code",
    "id": "8EjXSAOUPFfE"
   },
   "outputs": [],
   "source": [
    "def decode(code):\n",
    "    out = \"\"\n",
    "    for chunk in code.split(\" \"):\n",
    "        num = ds.encode_morse('^ ' + chunk +\" $\").unsqueeze(1)\n",
    "        pred = model(num.cuda(), maxlen=2)\n",
    "        pred = pred[1:].view(-1, pred_dim).argmax(-1)\n",
    "        out += ds.decode_alpha(pred.cpu())\n",
    "    return out"
   ]
  },
  {
   "cell_type": "code",
   "execution_count": 43,
   "metadata": {},
   "outputs": [
    {
     "name": "stdout",
     "output_type": "stream",
     "text": [
      "agsjec the follojigg\n",
      "jhy is the oczec of the output cevecsez\n",
      "jhat is the poigt of teachec foccigg\n"
     ]
    }
   ],
   "source": [
    "print(decode(\".- -. ... .-- . .-. / - .... . / ..-. --- .-.. .-.. --- .-- .. -. --.\"))\n",
    "print(decode(\".-- .... -.-- / .. ... / - .... . / --- .-. -.. . .-. / --- ..-. / - .... . / --- ..- - .--. ..- - / .-. . ...- . .-. ... . -..\"))\n",
    "print(decode(\".-- .... .- - / .. ... / - .... . / .--. --- .. -. - / --- ..-. / - . .- -.-. .... . .-. / ..-. --- .-. -.-. .. -. --.\"))"
   ]
  },
  {
   "cell_type": "code",
   "execution_count": 24,
   "metadata": {},
   "outputs": [
    {
     "data": {
      "image/png": "[encoded data removed]",
      "text/plain": [
       "<Figure size 432x288 with 1 Axes>"
      ]
     },
     "metadata": {},
     "output_type": "display_data"
    }
   ],
   "source": [
    "import matplotlib.pyplot as plt\n",
    "plt.style.use(\"fivethirtyeight\")\n",
    "\n",
    "plt.plot(trainloss, label=\"Training loss\")\n",
    "#plt.plot(valloss, label=\"Validation loss\", c=\"r\")\n",
    "plt.xlabel(\"Epoch\")\n",
    "plt.ylabel(\"Training loss\")\n",
    "for x in range(10):\n",
    "    plt.axvline(163*x, linewidth=1, color='r', linestyle=\":\")\n",
    "plt.xticks(np.arange(0,1630,163), range(10))\n",
    "\n",
    "plt.show()"
   ]
  },
  {
   "cell_type": "code",
   "execution_count": 25,
   "metadata": {},
   "outputs": [
    {
     "data": {
      "image/png": "[encoded data removed]",
      "text/plain": [
       "<Figure size 432x288 with 1 Axes>"
      ]
     },
     "metadata": {},
     "output_type": "display_data"
    }
   ],
   "source": [
    "import matplotlib.pyplot as plt\n",
    "plt.style.use(\"fivethirtyeight\")\n",
    "\n",
    "#plt.plot(trainloss, label=\"Training loss\")\n",
    "plt.plot(valloss, label=\"Validation loss\", c=\"r\")\n",
    "plt.xlabel(\"Epoch\")\n",
    "plt.ylabel(\"Validation loss\")\n",
    "for x in range(10):\n",
    "    plt.axvline(82*x, linewidth=1, linestyle=\":\")\n",
    "plt.xticks(np.arange(0,820,82), range(10))\n",
    "\n",
    "plt.show()"
   ]
  },
  {
   "cell_type": "code",
   "execution_count": 46,
   "metadata": {},
   "outputs": [],
   "source": [
    "trainloss2 = trainloss\n",
    "valloss2 = valloss"
   ]
  },
  {
   "cell_type": "code",
   "execution_count": null,
   "metadata": {},
   "outputs": [],
   "source": []
  }
 ],
 "metadata": {
  "accelerator": "GPU",
  "colab": {
   "collapsed_sections": [],
   "name": "labex7-seq2seq.ipynb",
   "provenance": []
  },
  "kernelspec": {
   "display_name": "Python 3",
   "language": "python",
   "name": "python3"
  },
  "language_info": {
   "codemirror_mode": {
    "name": "ipython",
    "version": 3
   },
   "file_extension": ".py",
   "mimetype": "text/x-python",
   "name": "python",
   "nbconvert_exporter": "python",
   "pygments_lexer": "ipython3",
   "version": "3.7.1"
  }
 },
 "nbformat": 4,
 "nbformat_minor": 1
}
