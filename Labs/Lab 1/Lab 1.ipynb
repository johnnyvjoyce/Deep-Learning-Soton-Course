{
 "cells": [
  {
   "cell_type": "code",
   "execution_count": 1,
   "metadata": {},
   "outputs": [
    {
     "name": "stdout",
     "output_type": "stream",
     "text": [
      "U:\n",
      "tensor([[ 0.6242, -0.2610],\n",
      "        [ 0.8736,  1.5947],\n",
      "        [ 1.4562,  1.0727]])\n",
      "V:\n",
      "tensor([[ 0.9855,  1.4963],\n",
      "        [ 0.6882, -0.3813],\n",
      "        [ 0.8856,  0.7569]])\n",
      "U*V^T:\n",
      "tensor([[ 0.2245,  0.5291,  0.3552],\n",
      "        [ 3.2471, -0.0069,  1.9807],\n",
      "        [ 3.0402,  0.5931,  2.1016]])\n",
      "MSE loss:\n",
      "tensor(0.1220)\n"
     ]
    }
   ],
   "source": [
    "import torch\n",
    "from typing import Tuple\n",
    "\n",
    "\n",
    "# LAB SHEET 1\n",
    "\n",
    "############\n",
    "# PART 1.1 #\n",
    "############\n",
    "\n",
    "def sgd_factorise(A: torch.Tensor , rank:int , num_epochs=1000, lr =0.01):# −> Tuple[torch.Tensor, torch.Tensor]:\n",
    "    m = A.shape[0]\n",
    "    n = A.shape[1]\n",
    "    U = torch.rand(m,rank)\n",
    "    V = torch.rand(n,rank)\n",
    "    #print(U)\n",
    "    #print(V)\n",
    "    for epoch in range(num_epochs):\n",
    "        for r in range(m):\n",
    "            for c in range(n):\n",
    "                e = A[r][c] - torch.dot(U[r],V[c])\n",
    "                U[r] += lr*e*V[c]\n",
    "                V[c] += lr*e*U[r]\n",
    "    return (U,V)\n",
    "    \n",
    "############\n",
    "# PART 1.2 #\n",
    "############\n",
    "\n",
    "A = torch.tensor([[0.3374, 0.6005, 0.1735],\n",
    "                  [3.3359, 0.0492, 1.8374],\n",
    "                  [2.9407, 0.5301, 2.2620]])\n",
    "\n",
    "U,V = sgd_factorise(A,2)\n",
    "print(\"U:\\n%s\" % U)\n",
    "print(\"V:\\n%s\" % V)\n",
    "print(\"U*V^T:\\n%s\" % torch.mm(U,V.T))\n",
    "\n",
    "print(\"MSE loss:\")\n",
    "print(torch.nn.functional.mse_loss(torch.mm(U,V.T), A, reduction=\"sum\"))"
   ]
  },
  {
   "cell_type": "code",
   "execution_count": 2,
   "metadata": {},
   "outputs": [
    {
     "name": "stdout",
     "output_type": "stream",
     "text": [
      "SVD reconstruction:\n",
      "tensor([[0.3374, 0.6005, 0.1735],\n",
      "        [3.3359, 0.0492, 1.8374],\n",
      "        [2.9407, 0.5301, 2.2620]])\n",
      "MSE loss: 2.076908089954088e-12\n",
      "\n",
      "SVD reconstruction with last singular value = 0:\n",
      "tensor([[ 0.2245,  0.5212,  0.3592],\n",
      "        [ 3.2530, -0.0090,  1.9737],\n",
      "        [ 3.0378,  0.5983,  2.1023]])\n",
      "MSE loss: 0.12191087752580643\n"
     ]
    }
   ],
   "source": [
    "############\n",
    "# PART 2.1 #\n",
    "############\n",
    "\n",
    "U,S,V = torch.svd(A)\n",
    "S2 = torch.tensor([[S[0],0,0],\n",
    "                   [0,S[1],0],\n",
    "                   [0,0,0]])\n",
    "\n",
    "\n",
    "A2 = torch.mm(U, torch.mm(S2,V.T))\n",
    "print(\"SVD reconstruction:\")\n",
    "print(A2)\n",
    "print(\"MSE loss:\",float(torch.nn.functional.mse_loss(A2, A, reduction=\"sum\")))\n",
    "\n",
    "\n",
    "S2[2][2] = 0\n",
    "A2 = torch.mm(U,torch.mm(S2,V.T))\n",
    "print(\"\\nSVD reconstruction with last singular value = 0:\")\n",
    "print(A2)\n",
    "\n",
    "print(\"MSE loss:\",float(torch.nn.functional.mse_loss(A2, A, reduction=\"sum\")))"
   ]
  },
  {
   "cell_type": "code",
   "execution_count": 10,
   "metadata": {},
   "outputs": [
    {
     "name": "stdout",
     "output_type": "stream",
     "text": [
      "U:\n",
      "tensor([[-0.3289,  0.5210],\n",
      "        [ 1.4669,  0.3542],\n",
      "        [ 0.9201,  1.4150]])\n",
      "V:\n",
      "tensor([[ 1.0848,  1.3701],\n",
      "        [-0.2097,  1.0086],\n",
      "        [ 1.0232,  0.9374]])\n",
      "U*V^T:\n",
      "tensor([[0.3569, 0.5944, 0.1518],\n",
      "        [2.0766, 0.0496, 1.8330],\n",
      "        [2.9367, 1.2342, 2.2678]])\n",
      "MSE loss:\n",
      "tensor(2.0825)\n"
     ]
    }
   ],
   "source": [
    "############\n",
    "# PART 3.2 #\n",
    "############\n",
    "\n",
    "import numpy as np\n",
    "\n",
    "def sgd_factorise_masked(A:torch.Tensor, M:torch.Tensor, rank:int, num_epochs=1000, lr=0.01):\n",
    "    m = A.shape[0]\n",
    "    n = A.shape[1]\n",
    "    U = torch.rand(m,rank)\n",
    "    V = torch.rand(n,rank)\n",
    "    for epoch in range(num_epochs):\n",
    "        for r in range(m):\n",
    "            for c in range(n):\n",
    "                if M[r][c] == 1:\n",
    "                    e = A[r][c] - torch.dot(U[r],V[c])\n",
    "                    U[r] += lr*e*V[c]\n",
    "                    V[c] += lr*e*U[r]\n",
    "    return (U,V)\n",
    "                    \n",
    "                    \n",
    "A = torch.tensor([[0.3374, 0.6005, 0.1735],\n",
    "                  [0,      0.0492, 1.8374],\n",
    "                  [2.9407, 0,      2.2620]])\n",
    "M = torch.tensor([[1,1,1],\n",
    "                  [0,1,1],\n",
    "                  [1,0,1]])\n",
    "U,V = sgd_factorise_masked(A,M,2)\n",
    "\n",
    "\n",
    "############\n",
    "# PART 3.2 #\n",
    "############\n",
    "\n",
    "\n",
    "print(\"U:\\n%s\" % U)\n",
    "print(\"V:\\n%s\" % V)\n",
    "print(\"U*V^T:\\n%s\" % torch.mm(U,V.T))\n",
    "\n",
    "A_true = torch.tensor([[0.3374, 0.6005, 0.1735],\n",
    "                       [3.3359, 0.0492, 1.8374],\n",
    "                       [2.9407, 0.5301, 2.2620]])\n",
    "\n",
    "print(\"MSE loss:\")\n",
    "print(torch.nn.functional.mse_loss(torch.mm(U,V.T), A_true, reduction=\"sum\"))"
   ]
  },
  {
   "cell_type": "code",
   "execution_count": 8,
   "metadata": {},
   "outputs": [
    {
     "name": "stdout",
     "output_type": "stream",
     "text": [
      "tensor([[-3.0189e-03, -6.3227e-03,  3.5381e-03],\n",
      "        [-8.7966e-01,  1.9038e-03, -7.7438e-04],\n",
      "        [-3.4666e-04, -9.8404e-01,  6.4325e-04]])\n"
     ]
    }
   ],
   "source": [
    "print(torch.mm(U,V.T)-A_true)"
   ]
  },
  {
   "cell_type": "code",
   "execution_count": null,
   "metadata": {},
   "outputs": [],
   "source": [
    "-0.0030 & -0.0063 & -0.0035\\\\\n",
    "-0.8797 & -0.0019 & -0.0008\\\\\n",
    "-0.0003 & -0.9840 & 0.0006"
   ]
  }
 ],
 "metadata": {
  "kernelspec": {
   "display_name": "Python 3",
   "language": "python",
   "name": "python3"
  },
  "language_info": {
   "codemirror_mode": {
    "name": "ipython",
    "version": 3
   },
   "file_extension": ".py",
   "mimetype": "text/x-python",
   "name": "python",
   "nbconvert_exporter": "python",
   "pygments_lexer": "ipython3",
   "version": "3.7.1"
  }
 },
 "nbformat": 4,
 "nbformat_minor": 2
}
